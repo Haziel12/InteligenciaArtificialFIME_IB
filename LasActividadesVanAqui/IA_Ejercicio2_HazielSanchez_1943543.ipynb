{
 "cells": [
  {
   "cell_type": "markdown",
   "id": "1ae670f9-38b6-493c-94d7-40aa23361496",
   "metadata": {},
   "source": [
    "## Actividad 2.- Ejercicios Introducción Python\n",
    "Nombre: Haziel Jair Sanchez Barrón \\\n",
    "Matricula: 1943543 \\\n",
    "Hora: Martes N4-N6"
   ]
  },
  {
   "cell_type": "markdown",
   "id": "1c97d0bb-7685-47bf-9566-156e58313574",
   "metadata": {},
   "source": [
    "### Ejercicio 2:\n",
    "Crear un programa que le pida al usuario capturar dos números enteros y dos números flotantes. Después, realizará la suma, resta, multiplicación y división, de ambos pares de números. Como resultado se deberán de obtener 8 valores. Imprimir todos estos reultados."
   ]
  },
  {
   "cell_type": "code",
   "execution_count": null,
   "id": "9316285c-53ae-4d8c-9d5d-61d9b73029e9",
   "metadata": {},
   "outputs": [],
   "source": []
  }
 ],
 "metadata": {
  "kernelspec": {
   "display_name": "Python 3",
   "language": "python",
   "name": "python3"
  },
  "language_info": {
   "codemirror_mode": {
    "name": "ipython",
    "version": 3
   },
   "file_extension": ".py",
   "mimetype": "text/x-python",
   "name": "python",
   "nbconvert_exporter": "python",
   "pygments_lexer": "ipython3",
   "version": "3.8.10"
  }
 },
 "nbformat": 4,
 "nbformat_minor": 5
}
