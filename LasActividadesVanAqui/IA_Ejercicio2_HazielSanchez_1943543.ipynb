{
 "cells": [
  {
   "cell_type": "markdown",
   "id": "1ae670f9-38b6-493c-94d7-40aa23361496",
   "metadata": {},
   "source": [
    "## Actividad 2.- Ejercicios Introducción Python\n",
    "Nombre: Haziel Jair Sanchez Barrón \\\n",
    "Matricula: 1943543 \\\n",
    "Hora: Martes N4-N6"
   ]
  },
  {
   "cell_type": "markdown",
   "id": "1c97d0bb-7685-47bf-9566-156e58313574",
   "metadata": {},
   "source": [
    "### Ejercicio 2:\n",
    "Crear un programa que le pida al usuario capturar dos números enteros y dos números flotantes. Después, realizará la suma, resta, multiplicación y división, de ambos pares de números. Como resultado se deberán de obtener 8 valores. Imprimir todos estos reultados."
   ]
  },
  {
   "cell_type": "code",
   "execution_count": 70,
   "id": "9316285c-53ae-4d8c-9d5d-61d9b73029e9",
   "metadata": {},
   "outputs": [
    {
     "name": "stdin",
     "output_type": "stream",
     "text": [
      "Introduce el primer número entero: 4\n",
      "Introduce el segundo número entero: 3\n"
     ]
    }
   ],
   "source": [
    "#int() para convertir a entero\n",
    "entero_1 = int(input(\"Introduce el primer número entero:\")) \n",
    "entero_2 = int(input(\"Introduce el segundo número entero:\"))"
   ]
  },
  {
   "cell_type": "code",
   "execution_count": 71,
   "id": "ddd7d7e3-2d9d-4a13-aa5c-1fa57273ce9c",
   "metadata": {},
   "outputs": [
    {
     "name": "stdin",
     "output_type": "stream",
     "text": [
      "Introduce el primer número flotante: 15.8\n",
      "Introduce el segundo número flotante: 7.5\n"
     ]
    }
   ],
   "source": [
    "#float() para convertir a flotante\n",
    "flotante_1 = float(input(\"Introduce el primer número flotante:\"))\n",
    "flotante_2 = float(input(\"Introduce el segundo número flotante:\"))"
   ]
  },
  {
   "cell_type": "code",
   "execution_count": 72,
   "id": "23e4e542-807a-4a56-ac5f-b20f7b93fc37",
   "metadata": {},
   "outputs": [
    {
     "name": "stdout",
     "output_type": "stream",
     "text": [
      "        \tentero \t\t\tflotante \n",
      "suma              7     \t\t23.3\n",
      "resta             1      \t\t8.3\n",
      "multiplicación    12     \t\t118.5\n",
      "división          1.3333333333333333    2.106666666666667\n"
     ]
    }
   ],
   "source": [
    "# el uso de f y \"\"\" para un mejor acomodo en los reultados\n",
    "print(f\"\"\"        \\tentero \\t\\t\\tflotante \n",
    "suma              {entero_1+entero_2}     \\t\\t{flotante_1+flotante_2}\n",
    "resta             {entero_1-entero_2}      \\t\\t{flotante_1-flotante_2}\n",
    "multiplicación    {entero_1*entero_2}     \\t\\t{flotante_1*flotante_2}\n",
    "división          {entero_1/entero_2}    {flotante_1/flotante_2}\"\"\")"
   ]
  }
 ],
 "metadata": {
  "kernelspec": {
   "display_name": "Python 3",
   "language": "python",
   "name": "python3"
  },
  "language_info": {
   "codemirror_mode": {
    "name": "ipython",
    "version": 3
   },
   "file_extension": ".py",
   "mimetype": "text/x-python",
   "name": "python",
   "nbconvert_exporter": "python",
   "pygments_lexer": "ipython3",
   "version": "3.8.10"
  }
 },
 "nbformat": 4,
 "nbformat_minor": 5
}
