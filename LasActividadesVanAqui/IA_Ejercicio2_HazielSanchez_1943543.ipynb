{
 "cells": [
  {
   "cell_type": "markdown",
   "id": "bcf4fd8c-ab1d-43da-b40e-4305c04a8628",
   "metadata": {},
   "source": [
    "## Actividad 3.- Ejercicios Introducción Python, 2da parte\n",
    "Nombre: Haziel Jair Sanchez Barrón \\\n",
    "Matricula: 1943543 \\\n",
    "Hora: Martes N4-N6"
   ]
  },
  {
   "cell_type": "markdown",
   "id": "8f464b53-3787-4eca-a4a1-19ae115ef1f9",
   "metadata": {},
   "source": [
    "### Ejercicio 1:\n",
    "1.1 Piensa en 7 comidas diferente que te gusten. Implementa un programa que pregunte por las 7 comidas, las almacene en una lista y que posteriermente imprima cada una de ellas utilizando uno de los ciclos comentados en clase. "
   ]
  },
  {
   "cell_type": "code",
   "execution_count": 4,
   "id": "cbcf1f54-cd9d-4f85-b2d9-9ed242557773",
   "metadata": {},
   "outputs": [
    {
     "name": "stdin",
     "output_type": "stream",
     "text": [
      "Ingresa la comida 1 Fruta\n",
      "Ingresa la comida 2 Queso\n",
      "Ingresa la comida 3 Pasta\n",
      "Ingresa la comida 4 Mariscos\n",
      "Ingresa la comida 5 Pan\n",
      "Ingresa la comida 6 Galletas\n",
      "Ingresa la comida 7 Granola\n"
     ]
    },
    {
     "name": "stdout",
     "output_type": "stream",
     "text": [
      "Fruta\n",
      "Queso\n",
      "Pasta\n",
      "Mariscos\n",
      "Pan\n",
      "Galletas\n",
      "Granola\n"
     ]
    }
   ],
   "source": [
    "#Se crea una lista donde se pregunte por 7 comidasa y se vayan guardando en la lista\n",
    "#Para eso es necesario el uso de un for que va de 0 a 6\n",
    "comidas=[input(f'Ingresa la comida {i+1}') for i in range(7)]\n",
    "#Se realiza el for para imprimir los valores de la lista comida\n",
    "for x in comidas:\n",
    "    print(x)"
   ]
  },
  {
   "cell_type": "markdown",
   "id": "942b9619-69b2-4498-a906-50e94042be6a",
   "metadata": {},
   "source": [
    "1.2 Modifica el ejercicio 1.1 para que imprima cada una de las comidas favoritas junto con una oracición inicial: \"Una de mis comidas favoritas es [comida1]\"."
   ]
  },
  {
   "cell_type": "code",
   "execution_count": 5,
   "id": "94008ce1-49b2-4bb0-83a2-f7f604d711e1",
   "metadata": {},
   "outputs": [
    {
     "name": "stdin",
     "output_type": "stream",
     "text": [
      "Ingresa la comida 1 Pastel\n",
      "Ingresa la comida 2 Helado\n",
      "Ingresa la comida 3 Sushi\n",
      "Ingresa la comida 4 Pizza\n",
      "Ingresa la comida 5 Lonches\n",
      "Ingresa la comida 6 Carne\n",
      "Ingresa la comida 7 Elote\n"
     ]
    },
    {
     "name": "stdout",
     "output_type": "stream",
     "text": [
      "El ultimo año comí Pastel\n",
      "El ultimo año comí Helado\n",
      "El ultimo año comí Sushi\n",
      "El ultimo año comí Pizza\n",
      "El ultimo año comí Lonches\n",
      "El ultimo año comí Carne\n",
      "El ultimo año comí Elote\n"
     ]
    }
   ],
   "source": [
    "#Se crea una lista donde se pregunte por 7 comidasa y se vayan guardando en la lista\n",
    "#Para eso es necesario el uso de un for que va de 0 a 6\n",
    "comidas=[input(f'Ingresa la comida {i+1}') for i in range(7)]\n",
    "#Se realiza el for para imprimir los valores de la lista comida\n",
    "#Para imprimir la frase con el valor de la lista en print se usa f\n",
    "for x in comidas:\n",
    "    print(f'El ultimo año comí {x}')"
   ]
  },
  {
   "cell_type": "markdown",
   "id": "e21fe3c4-539a-46c2-b893-b2aa79c099f6",
   "metadata": {},
   "source": [
    "### Ejercicio 2\n",
    "Crear un juego de piedra, papel o tijera de dos jugadores. El programa preguntará por la opción del jugador 1 y la opción del jugador 2 y dará como resultado quien ganó el juego. "
   ]
  },
  {
   "cell_type": "code",
   "execution_count": 17,
   "id": "ab1da1b0-84c7-4e42-b4d7-3d835029c4e0",
   "metadata": {},
   "outputs": [
    {
     "name": "stdin",
     "output_type": "stream",
     "text": [
      "Jugador 1 elige:\n",
      "1 para piedra\n",
      "2 para papel\n",
      "3 para tijera 2\n",
      "Jugador 2 elige:\n",
      "1 para piedra\n",
      "2 para papel\n",
      "3 para tijera 3\n"
     ]
    },
    {
     "name": "stdout",
     "output_type": "stream",
     "text": [
      "GANA JUADOR 2!\n"
     ]
    }
   ],
   "source": [
    "#Se guarda la opcion del jugador 1 como un numero para poder compararlo despues de una manera más simple y general\n",
    "jugador1= int(input(f\"\"\"Jugador 1 elige:\n",
    "1 para piedra\n",
    "2 para papel\n",
    "3 para tijera\"\"\"))\n",
    "#Se guarda la opcion del jugador 2 \n",
    "jugador2= int(input(f\"\"\"Jugador 2 elige:\n",
    "1 para piedra\n",
    "2 para papel\n",
    "3 para tijera\"\"\"))\n",
    "#Se comparar si pusieron las dos opciones generando un empate\n",
    "if(jugador1==jugador2):\n",
    "    print('EMPATE!')\n",
    "#Se crean los casos en los que gana el jugador 1, con cualquier caso se imprime que ganó\n",
    "elif((jugador1==1 and jugador2==3)or(jugador1==2 and jugador2==1)or(jugador1==3 and jugador2==2)):\n",
    "    print('GANA JUGADOR 1!')\n",
    "#Los casos restantes imprime que se gana el jugador 2\n",
    "else:\n",
    "    print('GANA JUADOR 2!')"
   ]
  },
  {
   "cell_type": "markdown",
   "id": "3e170f70-f055-48a8-8b7c-8f2cb8dc30d8",
   "metadata": {},
   "source": [
    "### Ejercicio 3\n",
    "Implementar un programa que imprima el siguiente patron:\n",
    "\n",
    "123456\\\n",
    "12345\\\n",
    "1234\\\n",
    "123\\\n",
    "12\\\n",
    "1\\\n",
    "12\\\n",
    "123\\\n",
    "1234\\\n",
    "12345\\\n",
    "123456 "
   ]
  },
  {
   "cell_type": "code",
   "execution_count": 20,
   "id": "6e9ba0e0-8868-436f-b1c8-3c288969efb1",
   "metadata": {},
   "outputs": [
    {
     "name": "stdout",
     "output_type": "stream",
     "text": [
      "123456\n",
      "12345\n",
      "1234\n",
      "123\n",
      "12\n",
      "1\n",
      "12\n",
      "123\n",
      "1234\n",
      "12345\n",
      "123456\n"
     ]
    }
   ],
   "source": [
    "#Se crea el patron que queremos imprimir guardado en una lista\n",
    "valores=[123456,12345,1234,123,12,1,12,123,1234,12345,123456]\n",
    "#Se imprime la lista\n",
    "for x in valores:\n",
    "    print(x)"
   ]
  }
 ],
 "metadata": {
  "kernelspec": {
   "display_name": "Python 3",
   "language": "python",
   "name": "python3"
  },
  "language_info": {
   "codemirror_mode": {
    "name": "ipython",
    "version": 3
   },
   "file_extension": ".py",
   "mimetype": "text/x-python",
   "name": "python",
   "nbconvert_exporter": "python",
   "pygments_lexer": "ipython3",
   "version": "3.8.10"
  }
 },
 "nbformat": 4,
 "nbformat_minor": 5
}
