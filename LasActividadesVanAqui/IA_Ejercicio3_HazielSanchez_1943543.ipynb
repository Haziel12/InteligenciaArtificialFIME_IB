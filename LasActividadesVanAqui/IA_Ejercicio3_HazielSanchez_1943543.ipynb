{
 "cells": [
  {
   "cell_type": "markdown",
   "id": "1ae670f9-38b6-493c-94d7-40aa23361496",
   "metadata": {},
   "source": [
    "## Actividad 2.- Ejercicios Introducción Python\n",
    "Nombre: Haziel Jair Sanchez Barrón \\\n",
    "Matricula: 1943543 \\\n",
    "Hora: Martes N4-N6"
   ]
  },
  {
   "cell_type": "markdown",
   "id": "1c97d0bb-7685-47bf-9566-156e58313574",
   "metadata": {},
   "source": [
    "### Ejercicio 3:\n",
    "Crear un programa que evalúe dos expresiones lógicas con `and`, dos con `or` y dos con `not`. Cada expresión deberá hacer uso de operadores de comparación.\n"
   ]
  },
  {
   "cell_type": "markdown",
   "id": "ea1a15b2-bbb3-4539-8cab-0c6508c55f82",
   "metadata": {},
   "source": [
    "#### And"
   ]
  },
  {
   "cell_type": "code",
   "execution_count": 13,
   "id": "9316285c-53ae-4d8c-9d5d-61d9b73029e9",
   "metadata": {},
   "outputs": [
    {
     "name": "stdout",
     "output_type": "stream",
     "text": [
      "True\n",
      "False\n"
     ]
    }
   ],
   "source": [
    "print(5>3 and 4>1) #True and True\n",
    "# != significa difentea de\n",
    "print(3==1 and 5!=3) #False and True"
   ]
  },
  {
   "cell_type": "markdown",
   "id": "35e88f85-7937-445f-844a-76855d3a56ba",
   "metadata": {},
   "source": [
    "#### Or"
   ]
  },
  {
   "cell_type": "code",
   "execution_count": 11,
   "id": "3b6d608c-1caf-4436-89d6-e0af7eed6adb",
   "metadata": {},
   "outputs": [
    {
     "data": {
      "text/plain": [
       "True"
      ]
     },
     "execution_count": 11,
     "metadata": {},
     "output_type": "execute_result"
    }
   ],
   "source": [
    "25>30 or 5<2 #False or False\n",
    "25>=2 or 12<=10 #True or False"
   ]
  },
  {
   "cell_type": "markdown",
   "id": "d1e33420-ec63-4aca-bc16-ee7a696c878a",
   "metadata": {},
   "source": [
    "#### Not"
   ]
  },
  {
   "cell_type": "code",
   "execution_count": 12,
   "id": "fc59fed1-5823-43e7-9376-2e2628d1b5f8",
   "metadata": {},
   "outputs": [
    {
     "data": {
      "text/plain": [
       "False"
      ]
     },
     "execution_count": 12,
     "metadata": {},
     "output_type": "execute_result"
    }
   ],
   "source": [
    "not (23==2) #not(False)\n",
    "not (30>20) #not(True)"
   ]
  }
 ],
 "metadata": {
  "kernelspec": {
   "display_name": "Python 3",
   "language": "python",
   "name": "python3"
  },
  "language_info": {
   "codemirror_mode": {
    "name": "ipython",
    "version": 3
   },
   "file_extension": ".py",
   "mimetype": "text/x-python",
   "name": "python",
   "nbconvert_exporter": "python",
   "pygments_lexer": "ipython3",
   "version": "3.8.10"
  }
 },
 "nbformat": 4,
 "nbformat_minor": 5
}
