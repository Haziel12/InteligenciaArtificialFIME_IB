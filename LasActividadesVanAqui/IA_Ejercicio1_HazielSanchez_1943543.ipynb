{
 "cells": [
  {
   "cell_type": "markdown",
   "id": "1ae670f9-38b6-493c-94d7-40aa23361496",
   "metadata": {},
   "source": [
    "## Actividad 2.- Ejercicios Introducción Python\n",
    "Nombre: Haziel Jair Sanchez Barrón \\\n",
    "Matricula: 1943543 \\\n",
    "Hora: Martes N4-N6"
   ]
  },
  {
   "cell_type": "markdown",
   "id": "1c97d0bb-7685-47bf-9566-156e58313574",
   "metadata": {},
   "source": [
    "### Ejercicio 1:\n",
    "Crear un programa que pregunte al usuario por su nombre, edad, una frase favorita y autor de la frase favorita. El programa deberá de imprimir un mensaje compuesto por el nombre y edad del usuario diciendo que su frase favorita es la que dió anteriormente y el autor de dicha frase es el nombre previamente dado. Aquí habrá que realizar una concatenación de variables. \n"
   ]
  },
  {
   "cell_type": "code",
   "execution_count": 3,
   "id": "9316285c-53ae-4d8c-9d5d-61d9b73029e9",
   "metadata": {},
   "outputs": [
    {
     "name": "stdin",
     "output_type": "stream",
     "text": [
      "Cual es tu nombre? Haziel Sanchez\n"
     ]
    }
   ],
   "source": [
    "# input() para interactuar con el usuario\n",
    "nombre = input(\"¿Cuál es tú nombre?\")"
   ]
  },
  {
   "cell_type": "code",
   "execution_count": 4,
   "id": "e9fb4665-22b9-402e-bcdc-215bfe661f38",
   "metadata": {},
   "outputs": [
    {
     "name": "stdin",
     "output_type": "stream",
     "text": [
      "Edad: 21\n"
     ]
    }
   ],
   "source": [
    "edad = input(\"Edad:\")"
   ]
  },
  {
   "cell_type": "code",
   "execution_count": 13,
   "id": "f093557c-7ffc-4713-a8cf-4dd210fb081d",
   "metadata": {},
   "outputs": [
    {
     "name": "stdin",
     "output_type": "stream",
     "text": [
      "Frase favorita: I am Iron Man\n"
     ]
    }
   ],
   "source": [
    "frase = input(\"Frase favorita:\")"
   ]
  },
  {
   "cell_type": "code",
   "execution_count": 6,
   "id": "e0b378a3-021b-4194-8501-9b2f33cd9f31",
   "metadata": {},
   "outputs": [
    {
     "name": "stdin",
     "output_type": "stream",
     "text": [
      "Autor de la frase Tony Stark\n"
     ]
    }
   ],
   "source": [
    "autor = input(\"Autor de la frase\")"
   ]
  },
  {
   "cell_type": "code",
   "execution_count": 14,
   "id": "284b17af-892f-4a1d-beef-b0c474739087",
   "metadata": {},
   "outputs": [
    {
     "name": "stdout",
     "output_type": "stream",
     "text": [
      "Haziel Sanchez 21\n",
      "Frase favorita: \"I am Iron Man\" -Tony Stark\n"
     ]
    }
   ],
   "source": [
    "# se una \\n para salto de linea\n",
    "print(nombre+ \" \"+ edad+\"\\n\"+ \"Frase favorita: \"+'\"'+frase+'\"'+ \" -\"+autor)"
   ]
  }
 ],
 "metadata": {
  "kernelspec": {
   "display_name": "Python 3",
   "language": "python",
   "name": "python3"
  },
  "language_info": {
   "codemirror_mode": {
    "name": "ipython",
    "version": 3
   },
   "file_extension": ".py",
   "mimetype": "text/x-python",
   "name": "python",
   "nbconvert_exporter": "python",
   "pygments_lexer": "ipython3",
   "version": "3.8.10"
  }
 },
 "nbformat": 4,
 "nbformat_minor": 5
}
