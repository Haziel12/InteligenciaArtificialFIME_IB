{
 "cells": [
  {
   "cell_type": "markdown",
   "id": "1ae670f9-38b6-493c-94d7-40aa23361496",
   "metadata": {},
   "source": [
    "## Actividad 2.- Ejercicios Introducción Python\n",
    "Nombre: Haziel Jair Sanchez Barrón \\\n",
    "Matricula: 1943543 \\\n",
    "Hora: Martes N4-N6"
   ]
  },
  {
   "cell_type": "markdown",
   "id": "1c97d0bb-7685-47bf-9566-156e58313574",
   "metadata": {},
   "source": [
    "### Ejercicio 1:\n",
    "Crear un programa que pregunte al usuario por su nombre, edad, una frase favorita y autor de la frase favorita. El programa deberá de imprimir un mensaje compuesto por el nombre y edad del usuario diciendo que su frase favorita es la que dió anteriormente y el autor de dicha frase es el nombre previamente dado. Aquí habrá que realizar una concatenación de variables. \n"
   ]
  },
  {
   "cell_type": "code",
   "execution_count": 16,
   "id": "9316285c-53ae-4d8c-9d5d-61d9b73029e9",
   "metadata": {},
   "outputs": [
    {
     "name": "stdin",
     "output_type": "stream",
     "text": [
      "¿Cuál es tú nombre? Haziel Sanchez\n",
      "Edad: 21\n",
      "Frase favorita: I am Iron Man\n",
      "Autor de la frase Tony Stark\n"
     ]
    },
    {
     "name": "stdout",
     "output_type": "stream",
     "text": [
      "Haziel Sanchez 21\n",
      "Frase favorita: \"I am Iron Man\" -Tony Stark\n"
     ]
    }
   ],
   "source": [
    "# input() para interactuar con el usuario\n",
    "nombre = input(\"¿Cuál es tú nombre?\")\n",
    "edad = input(\"Edad:\")\n",
    "frase = input(\"Frase favorita:\")\n",
    "autor = input(\"Autor de la frase\")\n",
    "# se una \\n para salto de linea\n",
    "print(nombre+ \" \"+ edad+\"\\n\"+ \"Frase favorita: \"+'\"'+frase+'\"'+ \" -\"+autor)"
   ]
  },
  {
   "cell_type": "markdown",
   "id": "8b3f05fe-b831-4871-a271-fea7aa040087",
   "metadata": {},
   "source": [
    "### Ejercicio 2:\n",
    "Crear un programa que le pida al usuario capturar dos números enteros y dos números flotantes. Después, realizará la suma, resta, multiplicación y división, de ambos pares de números. Como resultado se deberán de obtener 8 valores. Imprimir todos estos reultados."
   ]
  },
  {
   "cell_type": "code",
   "execution_count": 24,
   "id": "fef5fc68-ca2f-462c-8c9b-b1ae989d9cf8",
   "metadata": {},
   "outputs": [
    {
     "name": "stdin",
     "output_type": "stream",
     "text": [
      "Introduce el primer número entero: 4\n",
      "Introduce el segundo número entero: 3\n"
     ]
    }
   ],
   "source": [
    "#int() para convertir a entero\n",
    "entero_1 = int(input(\"Introduce el primer número entero:\")) \n",
    "entero_2 = int(input(\"Introduce el segundo número entero:\"))"
   ]
  },
  {
   "cell_type": "code",
   "execution_count": 25,
   "id": "f490108d-5ef1-4ff4-98a1-bcefbb738776",
   "metadata": {},
   "outputs": [
    {
     "name": "stdin",
     "output_type": "stream",
     "text": [
      "Introduce el primer número flotante: 15.8\n",
      "Introduce el segundo número flotante: 7.5\n"
     ]
    }
   ],
   "source": [
    "#float() para convertir a flotante\n",
    "flotante_1 = float(input(\"Introduce el primer número flotante:\"))\n",
    "flotante_2 = float(input(\"Introduce el segundo número flotante:\"))"
   ]
  },
  {
   "cell_type": "code",
   "execution_count": 35,
   "id": "35cf826e-7cb5-4447-a37a-f635909201a9",
   "metadata": {},
   "outputs": [
    {
     "name": "stdout",
     "output_type": "stream",
     "text": [
      "        \tentero \t\t\tflotante \n",
      "suma              7     \t\t23.3\n",
      "resta             1      \t\t8.3\n",
      "multiplicación    12     \t\t118.5\n",
      "división          1.3333333333333333    2.106666666666667\n"
     ]
    }
   ],
   "source": [
    "# el uso de f y \"\"\" para un mejor acomodo en los reultados\n",
    "print(f\"\"\"        \\tentero \\t\\t\\tflotante \n",
    "suma              {entero_1+entero_2}     \\t\\t{flotante_1+flotante_2}\n",
    "resta             {entero_1-entero_2}      \\t\\t{flotante_1-flotante_2}\n",
    "multiplicación    {entero_1*entero_2}     \\t\\t{flotante_1*flotante_2}\n",
    "división          {entero_1/entero_2}    {flotante_1/flotante_2}\"\"\")"
   ]
  },
  {
   "cell_type": "markdown",
   "id": "a7a07610-c8c8-46f1-a098-42ec9c784251",
   "metadata": {},
   "source": [
    "### Ejercicio 3:\n",
    "Crear un programa que evalúe dos expresiones lógicas con `and`, dos con `or` y dos con `not`. Cada expresión deberá hacer uso de operadores de comparación."
   ]
  },
  {
   "cell_type": "markdown",
   "id": "54bb92cf-1395-4508-8fd8-aa4e932db545",
   "metadata": {},
   "source": [
    "#### And"
   ]
  },
  {
   "cell_type": "code",
   "execution_count": 39,
   "id": "5d9bb9dd-8769-4b8c-b630-4d76da95da3f",
   "metadata": {},
   "outputs": [
    {
     "name": "stdout",
     "output_type": "stream",
     "text": [
      "True\n",
      "False\n"
     ]
    }
   ],
   "source": [
    "print(5>3 and 4>1) #True and True\n",
    "# != significa difentea de\n",
    "print(3==1 and 5!=3) #False and True"
   ]
  },
  {
   "cell_type": "markdown",
   "id": "46f8abe0-f176-4525-b250-09420c16ccc1",
   "metadata": {},
   "source": [
    "#### Or"
   ]
  },
  {
   "cell_type": "code",
   "execution_count": 40,
   "id": "1678d394-5680-4b56-bf4c-c1a7087718dd",
   "metadata": {},
   "outputs": [
    {
     "name": "stdout",
     "output_type": "stream",
     "text": [
      "False\n",
      "True\n"
     ]
    }
   ],
   "source": [
    "print(25>30 or 5<2) #False or False\n",
    "print(25>=2 or 12<=10) #True or False"
   ]
  },
  {
   "cell_type": "markdown",
   "id": "9b41432e-e50b-46e7-8a87-cbe134b5709b",
   "metadata": {},
   "source": [
    "#### Not"
   ]
  },
  {
   "cell_type": "code",
   "execution_count": 41,
   "id": "425610dd-f255-4f9a-a960-a3bba07073f9",
   "metadata": {},
   "outputs": [
    {
     "name": "stdout",
     "output_type": "stream",
     "text": [
      "True\n",
      "False\n"
     ]
    }
   ],
   "source": [
    "print(not (23==2)) #not(False)\n",
    "print(not (30>20)) #not(True)"
   ]
  }
 ],
 "metadata": {
  "kernelspec": {
   "display_name": "Python 3",
   "language": "python",
   "name": "python3"
  },
  "language_info": {
   "codemirror_mode": {
    "name": "ipython",
    "version": 3
   },
   "file_extension": ".py",
   "mimetype": "text/x-python",
   "name": "python",
   "nbconvert_exporter": "python",
   "pygments_lexer": "ipython3",
   "version": "3.8.10"
  }
 },
 "nbformat": 4,
 "nbformat_minor": 5
}
