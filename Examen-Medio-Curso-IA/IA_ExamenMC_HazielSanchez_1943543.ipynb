{
 "cells": [
  {
   "cell_type": "markdown",
   "id": "12d3661f-7128-479b-aa0b-09135a2345bc",
   "metadata": {},
   "source": [
    "## Examen de Medio Curso\n",
    "Nombre: Haziel Jair Sanchez Barrón \\\n",
    "Matricula: 1943543 \\\n",
    "Hora: Martes N4-N6"
   ]
  },
  {
   "cell_type": "markdown",
   "id": "c912e9b0-44fb-4b7d-8537-bab84853974e",
   "metadata": {},
   "source": [
    "### Ejercicio 1.1:\n",
    "1.1 El usuario dará un número al azar y el código calculará la suma de todos los números desde el 1 hasta el número dado por el usuario.\n",
    "Ejemplo: el usuario dió el número 4, el código deberá de dar como resultado 10.\n"
   ]
  },
  {
   "cell_type": "code",
   "execution_count": 8,
   "id": "08808d02-cf14-4648-8c70-2e0c22430de1",
   "metadata": {},
   "outputs": [
    {
     "name": "stdin",
     "output_type": "stream",
     "text": [
      "Pasa un número 4\n"
     ]
    },
    {
     "name": "stdout",
     "output_type": "stream",
     "text": [
      "10\n"
     ]
    }
   ],
   "source": [
    "num = int(input(\"Pasa un número\"))#Aqui se pasa un numero con input y se convierte a entero\n",
    "#Se imprime una suma con el metodo de python del rango con el número que se pasó \n",
    "#En rango se da num+1 para que incluya el número que se pasó\n",
    "print(sum(range(num+1)))               "
   ]
  },
  {
   "cell_type": "markdown",
   "id": "0675fe33-4d9f-4c63-8451-be17a3453980",
   "metadata": {},
   "source": [
    "### Ejercicio 1.2:\n",
    "1.2 Dados el inicio y final de un rango de números, guardar ese rango de números en una lista. Después, imprimir los números que son pares en la lista por medio de uno de los ciclos que vimos en clase. \n",
    "Inicio = 6, final = 31"
   ]
  },
  {
   "cell_type": "code",
   "execution_count": 9,
   "id": "18fced52-22bc-4dc9-94ce-8ef539bd67f6",
   "metadata": {},
   "outputs": [
    {
     "name": "stdin",
     "output_type": "stream",
     "text": [
      "Ingresa el inicio 6\n",
      "Ingresa el final 31\n"
     ]
    },
    {
     "name": "stdout",
     "output_type": "stream",
     "text": [
      "[6, 7, 8, 9, 10, 11, 12, 13, 14, 15, 16, 17, 18, 19, 20, 21, 22, 23, 24, 25, 26, 27, 28, 29, 30, 31]\n",
      "6\n",
      "8\n",
      "10\n",
      "12\n",
      "14\n",
      "16\n",
      "18\n",
      "20\n",
      "22\n",
      "24\n",
      "26\n",
      "28\n",
      "30\n"
     ]
    }
   ],
   "source": [
    "ini = int(input(\"Ingresa el inicio\")) #Se pide un número inicial\n",
    "fin = int(input(\"Ingresa el final\")) #Se pide un numero final\n",
    "lista = list(range(ini, fin+1)) #Se crea una lista con el rango del numero inicial al final\n",
    "print(lista) #Se imprime la lista si no se quiere ver la lista se puede comentar o borrar la linea\n",
    "for x in lista: #Se hace un for para que pase por todos los elementos de la lista\n",
    "    if not x%2: #La condicion checa si hay un numero par, si el modulo da 0 significa es falso, al negarlo es Verdadero y entra al if\n",
    "        print(x) #Se imprime el elemto para"
   ]
  }
 ],
 "metadata": {
  "kernelspec": {
   "display_name": "Python 3",
   "language": "python",
   "name": "python3"
  },
  "language_info": {
   "codemirror_mode": {
    "name": "ipython",
    "version": 3
   },
   "file_extension": ".py",
   "mimetype": "text/x-python",
   "name": "python",
   "nbconvert_exporter": "python",
   "pygments_lexer": "ipython3",
   "version": "3.8.10"
  }
 },
 "nbformat": 4,
 "nbformat_minor": 5
}
